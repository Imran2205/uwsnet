{
  "nbformat": 4,
  "nbformat_minor": 0,
  "metadata": {
    "colab": {
      "provenance": [],
      "authorship_tag": "ABX9TyOMsVOvigWPnaUybMLLN+je",
      "include_colab_link": true
    },
    "kernelspec": {
      "name": "python3",
      "display_name": "Python 3"
    },
    "language_info": {
      "name": "python"
    }
  },
  "cells": [
    {
      "cell_type": "markdown",
      "metadata": {
        "id": "view-in-github",
        "colab_type": "text"
      },
      "source": [
        "<a href=\"https://colab.research.google.com/github/Imran2205/uwsnet/blob/main/colab_notebooks/fewshot_inference.ipynb\" target=\"_parent\"><img src=\"https://colab.research.google.com/assets/colab-badge.svg\" alt=\"Open In Colab\"/></a>"
      ]
    },
    {
      "cell_type": "code",
      "execution_count": null,
      "metadata": {
        "id": "lzNLe0hA6RkS"
      },
      "outputs": [],
      "source": [
        "! pip install gdown"
      ]
    },
    {
      "cell_type": "code",
      "source": [
        "![[ -d ./uwsnet ]] && rm -rf ./uwsnet\n",
        "! git clone https://github.com/Imran2205/uwsnet"
      ],
      "metadata": {
        "id": "zHfU7mt26Wmv"
      },
      "execution_count": null,
      "outputs": []
    },
    {
      "cell_type": "code",
      "source": [
        "# download fewshot dataset from google drive and extract it\n",
        "! gdown https://drive.google.com/uc?id=14Qi3Zgb5ZL0oIsuZHDw5JmQxjOVGPtU4\n",
        "! unzip -q uw_fewshot_dataset.zip\n",
        "# ! rm -rf /content/uwsnet/dataset/*\n",
        "# ! mv dataset/* /content/uwsnet/dataset\n",
        "! rm -rf /content/__MACOSX\n",
        "# ! rm -rf /content/dataset\n",
        "! rm -rf /content/uw_fewshot_dataset.zip"
      ],
      "metadata": {
        "id": "jZBdl35w6ZKO"
      },
      "execution_count": null,
      "outputs": []
    },
    {
      "cell_type": "code",
      "source": [
        "# download dataset splits\n",
        "import gdown\n",
        "gdown.download_folder('https://drive.google.com/drive/folders/1IOLhsgBd2ZnVr4I10s8m4PqfP2yzpEbp', quiet=True)"
      ],
      "metadata": {
        "id": "IUH9SKrG6ZMp"
      },
      "execution_count": null,
      "outputs": []
    },
    {
      "cell_type": "code",
      "source": [
        "! rm -rf /content/uwsnet/dataset_split/*\n",
        "! mv dataset_split/* /content/uwsnet/dataset_split\n",
        "! rm -rf /content/dataset_split"
      ],
      "metadata": {
        "id": "mSyxgwgF6ZRv"
      },
      "execution_count": null,
      "outputs": []
    },
    {
      "cell_type": "code",
      "source": [
        "# download backbones\n",
        "gdown.download_folder('https://drive.google.com/drive/folders/15AD86KAKEpySFu8NFNZcPWE_9vmAuGx5', quiet=True)"
      ],
      "metadata": {
        "id": "rFJHgPIf6ZUa"
      },
      "execution_count": null,
      "outputs": []
    },
    {
      "cell_type": "code",
      "source": [
        "# download pretrained models\n",
        "gdown.download_folder('https://drive.google.com/drive/folders/1WEtRqBZgHtteCIzFHhnutp_KsXGA2Dhh', quiet=True)"
      ],
      "metadata": {
        "id": "ID5elk5R7YdQ"
      },
      "execution_count": null,
      "outputs": []
    },
    {
      "cell_type": "code",
      "source": [
        "! rm -rf log\n",
        "! rm -rf output"
      ],
      "metadata": {
        "id": "hwrFlY_A6ZXB"
      },
      "execution_count": null,
      "outputs": []
    },
    {
      "cell_type": "code",
      "source": [
        "! mkdir -p log\n",
        "! mkdir -p output"
      ],
      "metadata": {
        "id": "3MRjFW4k6ZZp"
      },
      "execution_count": null,
      "outputs": []
    },
    {
      "cell_type": "code",
      "source": [
        "! pip install imagecodecs\n",
        "! pip install pickle5\n",
        "! pip install timm\n",
        "! pip install einops\n",
        "! pip install pytorch_lightning\n",
        "! pip install yacs"
      ],
      "metadata": {
        "id": "B8ypwdHj6ZcP"
      },
      "execution_count": null,
      "outputs": []
    },
    {
      "cell_type": "code",
      "source": [
        "# Inference of UWSNet V2 for 1 shot with split 1 as validation set\n",
        "# ! python3 ./uwsnet/tools/test.py \\\n",
        "#     --config ./uwsnet/experiments_inference/eca_net_sup_que_vgg16_config/1_shot/uw_few_shot_training_config_eca_net_sup_que_vgg16_shot_1_split_0.yaml\n",
        "\n",
        "# Inference of UWSNet V2 for 1 shot with split 2 as validation set\n",
        "# ! python3 ./uwsnet/tools/test.py \\\n",
        "#     --config ./uwsnet/experiments_inference/eca_net_sup_que_vgg16_config/1_shot/uw_few_shot_training_config_eca_net_sup_que_vgg16_shot_1_split_1.yaml\n",
        "\n",
        "# Inference of UWSNet V2 for 1 shot with split 3 as validation set\n",
        "# ! python3 ./uwsnet/tools/test.py \\\n",
        "#     --config ./uwsnet/experiments_inference/eca_net_sup_que_vgg16_config/1_shot/uw_few_shot_training_config_eca_net_sup_que_vgg16_shot_1_split_2.yaml\n",
        "\n",
        "# Inference of UWSNet V2 for 1 shot with split 4 as validation set\n",
        "# ! python3 ./uwsnet/tools/test.py \\\n",
        "#     --config ./uwsnet/experiments_inference/eca_net_sup_que_vgg16_config/1_shot/uw_few_shot_training_config_eca_net_sup_que_vgg16_shot_1_split_3.yaml\n",
        "\n",
        "# Inference of UWSNet V6 for 1 shot with split 1 as validation set\n",
        "! python3 ./uwsnet/tools/test.py \\\n",
        "    --config ./uwsnet/experiments_inference/triplet_sup_que_vgg16_dice_config/1_shot/uw_few_shot_training_config_triplet_sup_que_vgg16_dice_shot_1_split_0.yaml\n",
        "\n",
        "# Inference of UWSNet V6 for 1 shot with split 2 as validation set\n",
        "# ! python3 ./uwsnet/tools/test.py \\\n",
        "#     --config ./uwsnet/experiments_inference/triplet_sup_que_vgg16_dice_config/1_shot/uw_few_shot_training_config_triplet_sup_que_vgg16_dice_shot_1_split_1.yaml\n",
        "\n",
        "# Inference of UWSNet V6 for 1 shot with split 3 as validation set\n",
        "# ! python3 ./uwsnet/tools/test.py \\\n",
        "#     --config ./uwsnet/experiments_inference/triplet_sup_que_vgg16_dice_config/1_shot/uw_few_shot_training_config_triplet_sup_que_vgg16_dice_shot_1_split_2.yaml\n",
        "\n",
        "# Inference of UWSNet V6 for 1 shot with split 4 as validation set\n",
        "# ! python3 ./uwsnet/tools/test.py \\\n",
        "#     --config ./uwsnet/experiments_inference/triplet_sup_que_vgg16_dice_config/1_shot/uw_few_shot_training_config_triplet_sup_que_vgg16_dice_shot_1_split_3.yaml"
      ],
      "metadata": {
        "id": "oy97D2FE6pAC"
      },
      "execution_count": null,
      "outputs": []
    }
  ]
}